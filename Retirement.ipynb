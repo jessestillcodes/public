{
 "cells": [
  {
   "cell_type": "markdown",
   "metadata": {},
   "source": [
    "# Retirement Simulation"
   ]
  },
  {
   "cell_type": "code",
   "execution_count": null,
   "metadata": {},
   "outputs": [],
   "source": []
  },
  {
   "cell_type": "code",
   "execution_count": 2,
   "metadata": {},
   "outputs": [],
   "source": [
    "import random as rd\n",
    "import statistics as st\n",
    "import matplotlib.pyplot as plt"
   ]
  },
  {
   "cell_type": "code",
   "execution_count": 3,
   "metadata": {},
   "outputs": [],
   "source": [
    "#input parameters\n",
    "annual_invest = 3000\n",
    "years = 30\n",
    "mean_return = 0.12\n",
    "stdev_return = 0.02"
   ]
  },
  {
   "cell_type": "code",
   "execution_count": 4,
   "metadata": {},
   "outputs": [],
   "source": [
    "# simulation trials\n",
    "trials = 1000\n",
    "sample = list()\n",
    "for i in range(trials):\n",
    "    asset_value = annual_invest\n",
    "    for t in range(years):\n",
    "        actual_return = rd.normalvariate(mean_return, stdev_return)\n",
    "        asset_value = asset_value + actual_return * asset_value + annual_invest\n",
    "    sample.append(asset_value)"
   ]
  },
  {
   "cell_type": "code",
   "execution_count": 5,
   "metadata": {},
   "outputs": [
    {
     "data": {
      "text/plain": [
       "(array([  7.,  48., 157., 262., 281., 156.,  69.,  19.,   0.,   1.]),\n",
       " array([ 629528.67501346,  675178.16513339,  720827.65525331,\n",
       "         766477.14537324,  812126.63549317,  857776.12561309,\n",
       "         903425.61573302,  949075.10585295,  994724.59597288,\n",
       "        1040374.0860928 , 1086023.57621273]),\n",
       " <BarContainer object of 10 artists>)"
      ]
     },
     "execution_count": 5,
     "metadata": {},
     "output_type": "execute_result"
    },
    {
     "data": {
      "image/png": "[encoded data removed]",
      "text/plain": [
       "<Figure size 640x480 with 1 Axes>"
      ]
     },
     "metadata": {},
     "output_type": "display_data"
    }
   ],
   "source": [
    "plt.hist(sample, edgecolor= 'k')"
   ]
  },
  {
   "cell_type": "code",
   "execution_count": 6,
   "metadata": {},
   "outputs": [
    {
     "name": "stdout",
     "output_type": "stream",
     "text": [
      "max = 1086024\n",
      "median =  815861\n",
      "mean =  816198\n",
      "min =  629529\n"
     ]
    }
   ],
   "source": [
    "#summary statistics\n",
    "print('max = %7.0f' % max(sample))\n",
    "print('median = %7.0f' % st.median(sample))\n",
    "print('mean = %7.0f' % st.mean(sample))\n",
    "print('min = %7.0f' % min(sample))"
   ]
  },
  {
   "cell_type": "code",
   "execution_count": 7,
   "metadata": {},
   "outputs": [
    {
     "name": "stdout",
     "output_type": "stream",
     "text": [
      "expected asset value at retirement is $816198\n"
     ]
    }
   ],
   "source": [
    "print('expected asset value at retirement is $%6.0f' % st.mean(sample))"
   ]
  },
  {
   "cell_type": "code",
   "execution_count": 8,
   "metadata": {},
   "outputs": [
    {
     "name": "stdout",
     "output_type": "stream",
     "text": [
      "there is a  0.10% chance of having at least $1 million.\n"
     ]
    }
   ],
   "source": [
    "# proportion estimate using a for loop\n",
    "count = 0\n",
    "for x in sample:\n",
    "    if x >= 1000000: count = count + 1\n",
    "proportion = count/len(sample)\n",
    "print('there is a %5.2f%% chance of having at least $1 million.' % (100*proportion))"
   ]
  },
  {
   "cell_type": "markdown",
   "metadata": {},
   "source": [
    "## Simulation Parameter Analysis"
   ]
  },
  {
   "cell_type": "code",
   "execution_count": 10,
   "metadata": {},
   "outputs": [
    {
     "name": "stdout",
     "output_type": "stream",
     "text": [
      "3000   814888.53  0.0040\n",
      "3100   838305.15  0.0120\n",
      "3200   868164.20  0.0330\n",
      "3300   898922.93  0.0830\n",
      "3400   919030.21  0.1090\n",
      "3500   951446.33  0.2530\n",
      "3600   976879.95  0.3850\n",
      "3700  1004835.25  0.5220\n",
      "3800  1025359.07  0.6220\n",
      "3900  1055362.82  0.7360\n",
      "4000  1079364.73  0.8130\n",
      "4100  1114062.66  0.9050\n",
      "4200  1140111.06  0.9440\n",
      "4300  1167239.27  0.9690\n",
      "4400  1200741.30  0.9890\n",
      "4500  1217710.59  0.9920\n",
      "4600  1248194.56  0.9980\n",
      "4700  1277124.32  0.9990\n",
      "4800  1300884.57  0.9970\n",
      "4900  1333480.72  1.0000\n",
      "5000  1360132.67  1.0000\n"
     ]
    }
   ],
   "source": [
    "#simulation parameter analysis for mean asset value and prob over 1 mil\n",
    "\n",
    "trials = 1000\n",
    "annual_invest_lst = list(range(3000, 5100, 100))\n",
    "mean_lst = list()\n",
    "proportion_lst = list()\n",
    "for annual_invest in annual_invest_lst:\n",
    "    sample = list()\n",
    "    for i in range(trials):\n",
    "        asset_value = annual_invest\n",
    "        for t in range(years):\n",
    "            actual_return = rd.normalvariate(mean_return, stdev_return)\n",
    "            asset_value = asset_value + actual_return * asset_value + annual_invest\n",
    "        sample.append(asset_value)\n",
    "    mean_lst.append(st.mean(sample))\n",
    "    \n",
    "    count = 0\n",
    "    for x in sample:\n",
    "        if x >= 1000000: count = count + 1\n",
    "    proportion = count/len(sample)\n",
    "    proportion_lst.append(proportion)\n",
    "    print('%4d  %10.2f  %6.4f' % (annual_invest, st.mean(sample), proportion))"
   ]
  },
  {
   "cell_type": "code",
   "execution_count": null,
   "metadata": {},
   "outputs": [],
   "source": []
  },
  {
   "cell_type": "code",
   "execution_count": null,
   "metadata": {},
   "outputs": [],
   "source": []
  }
 ],
 "metadata": {
  "kernelspec": {
   "display_name": "Python 3 (ipykernel)",
   "language": "python",
   "name": "python3"
  },
  "language_info": {
   "codemirror_mode": {
    "name": "ipython",
    "version": 3
   },
   "file_extension": ".py",
   "mimetype": "text/x-python",
   "name": "python",
   "nbconvert_exporter": "python",
   "pygments_lexer": "ipython3",
   "version": "3.11.5"
  }
 },
 "nbformat": 4,
 "nbformat_minor": 4
}
