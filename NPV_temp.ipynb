{
 "cells": [
  {
   "cell_type": "code",
   "execution_count": null,
   "metadata": {},
   "outputs": [],
   "source": [
    "#A small firm is available for purchase at an initial cost of $150,000, to\n",
    "\n",
    "#be paid to the current owner in equal installments over the next five\n",
    "\n",
    "#years. The firm has been generating annual revenues of $100,000.\n",
    "\n",
    "#Operating costs are 65 percent of revenues. For tax purposes, the\n",
    "\n",
    "#firm’s earnings would appear on your personal income tax return, and\n",
    "\n",
    "#the applicable tax rate would be 36 percent. Your investment would\n",
    "\n",
    "#be deductible when calculating taxes. Under these assumptions, the\n",
    "\n",
    "#NPV (at a discount rate of 10 percent) for this 5-year project is\n",
    "\n",
    "#$12,131."
   ]
  },
  {
   "cell_type": "markdown",
   "metadata": {},
   "source": [
    "# NPV Cash Flow Simulation"
   ]
  },
  {
   "cell_type": "code",
   "execution_count": 5,
   "metadata": {},
   "outputs": [
    {
     "name": "stdout",
     "output_type": "stream",
     "text": [
      "Requirement already satisfied: numpy-financial in c:\\users\\owner\\anaconda3\\lib\\site-packages (1.0.0)\n",
      "Requirement already satisfied: numpy>=1.15 in c:\\users\\owner\\anaconda3\\lib\\site-packages (from numpy-financial) (1.24.3)\n"
     ]
    }
   ],
   "source": [
    "# need to run the following command only once to install the package\n",
    "!pip install numpy-financial"
   ]
  },
  {
   "cell_type": "code",
   "execution_count": 1,
   "metadata": {},
   "outputs": [],
   "source": [
    "import random as rd\n",
    "import statistics as st\n",
    "import numpy as np\n",
    "import matplotlib.pyplot as plt\n",
    "import numpy_financial as npf"
   ]
  },
  {
   "cell_type": "code",
   "execution_count": 3,
   "metadata": {},
   "outputs": [],
   "source": [
    "#input parameters\n",
    "total_invest = 150000\n",
    "years = 5\n",
    "disc_rate = 0.10\n",
    "revenue_min = 60000\n",
    "revenue_max = 125000\n",
    "revenue_mode = 100000\n",
    "cost_perc_min = 0.55\n",
    "cost_perc_max = 0.75\n",
    "tax_rates = [0.36, 0.40]\n",
    "tax_rates_weight = [0.4, 0.6]"
   ]
  },
  {
   "cell_type": "code",
   "execution_count": 4,
   "metadata": {},
   "outputs": [],
   "source": [
    "# simulation trials\n",
    "trials = 1000\n",
    "sample_npv = list()\n",
    "sample_mincashflow = list()\n",
    "for i in range(trials):\n",
    "    cash_flow = [0]\n",
    "    for t in range(years):\n",
    "        invest = total_invest / years\n",
    "        revenue = rd.triangular(revenue_min, revenue_max, revenue_mode)\n",
    "        cost_perc = rd.uniform(cost_perc_min, cost_perc_max)\n",
    "        cost = revenue * cost_perc\n",
    "        profit = revenue - cost\n",
    "        tax_income = profit - invest\n",
    "        tax_rate = rd.choices(tax_rates, tax_rates_weight)[0]\n",
    "        tax = tax_rate * tax_income\n",
    "        cash_flow.append(tax_income - tax)\n",
    "        \n",
    "    npv = npf.npv(disc_rate, cash_flow)\n",
    "    sample_npv.append(npv)\n",
    "    sample_mincashflow.append(min(cash_flow))\n",
    "        "
   ]
  },
  {
   "cell_type": "code",
   "execution_count": 5,
   "metadata": {},
   "outputs": [
    {
     "data": {
      "text/plain": [
       "(array([ 12.,  45., 140., 219., 229., 184., 111.,  43.,  16.,   1.]),\n",
       " array([-13803.80118103,  -8899.25957651,  -3994.71797198,    909.82363254,\n",
       "          5814.36523706,  10718.90684158,  15623.44844611,  20527.99005063,\n",
       "         25432.53165515,  30337.07325968,  35241.6148642 ]),\n",
       " <BarContainer object of 10 artists>)"
      ]
     },
     "execution_count": 5,
     "metadata": {},
     "output_type": "execute_result"
    },
    {
     "data": {
      "image/png": "[encoded data removed]",
      "text/plain": [
       "<Figure size 640x480 with 1 Axes>"
      ]
     },
     "metadata": {},
     "output_type": "display_data"
    }
   ],
   "source": [
    "plt.hist(sample_npv)"
   ]
  },
  {
   "cell_type": "code",
   "execution_count": 9,
   "metadata": {},
   "outputs": [
    {
     "name": "stdout",
     "output_type": "stream",
     "text": [
      "Mean NPV = $7913.19\n"
     ]
    }
   ],
   "source": [
    "print('Mean NPV = $%5.2f' % st.mean(sample_npv))"
   ]
  },
  {
   "cell_type": "code",
   "execution_count": 11,
   "metadata": {},
   "outputs": [
    {
     "name": "stdout",
     "output_type": "stream",
     "text": [
      "There is a 16.10% chance the NPV is negative\n"
     ]
    }
   ],
   "source": [
    "proportion = sum(1 for x in sample_npv if x < 0.0) / len(sample_npv)\n",
    "print('There is a %5.2f%% chance the NPV is negative' % (100*proportion))"
   ]
  },
  {
   "cell_type": "code",
   "execution_count": 13,
   "metadata": {},
   "outputs": [
    {
     "name": "stdout",
     "output_type": "stream",
     "text": [
      "There is a 12.50% chance the cash flows are positive in all five years.\n"
     ]
    }
   ],
   "source": [
    "proportion = sum(1 for x in sample_mincashflow if x >= 0.0) / len(sample_mincashflow)\n",
    "print('There is a %4.2f%% chance the cash flows are positive in all five years.' % (100*proportion))"
   ]
  },
  {
   "cell_type": "markdown",
   "metadata": {},
   "source": [
    "## Confidence Intervals"
   ]
  },
  {
   "cell_type": "code",
   "execution_count": 16,
   "metadata": {},
   "outputs": [
    {
     "name": "stdout",
     "output_type": "stream",
     "text": [
      "90% percent confidence interval for the mean NPV is (7504.2, 8322.2)\n"
     ]
    }
   ],
   "source": [
    "# 90% confidence interval for true NPV mean\n",
    "sample_mean = st.mean(sample_npv)\n",
    "sample_std = st.stdev(sample_npv)\n",
    "moe = 1.645 * sample_std /len(sample_npv)**0.5\n",
    "\n",
    "lcl = sample_mean - moe\n",
    "ucl = sample_mean + moe\n",
    "\n",
    "print('90%% percent confidence interval for the mean NPV is (%6.1f, %6.1f)' % (lcl, ucl))"
   ]
  },
  {
   "cell_type": "code",
   "execution_count": 18,
   "metadata": {},
   "outputs": [
    {
     "name": "stdout",
     "output_type": "stream",
     "text": [
      "The 5th percentile of sample is -4433.41\n",
      "The 95th percentile of sample is 21433.07\n"
     ]
    }
   ],
   "source": [
    "# 5th and 95th percentiles of the NPV sample\n",
    "print('The 5th percentile of sample is %8.2f' % np.percentile(sample_npv, 5))\n",
    "print('The 95th percentile of sample is %8.2f' % np.percentile(sample_npv, 95))"
   ]
  },
  {
   "cell_type": "code",
   "execution_count": 20,
   "metadata": {},
   "outputs": [
    {
     "name": "stdout",
     "output_type": "stream",
     "text": [
      "95% percent confidence interval for the true probability all cash flows are positive is (7504.1569, 8322.2141).\n"
     ]
    }
   ],
   "source": [
    "# 95% confidence interval for the true probability all cash flows are positive\n",
    "\n",
    "\n",
    "print('95%% percent confidence interval for the true probability all cash flows are positive is (%6.4f, %6.4f).' % (lcl, ucl))"
   ]
  },
  {
   "cell_type": "code",
   "execution_count": 22,
   "metadata": {},
   "outputs": [
    {
     "name": "stdout",
     "output_type": "stream",
     "text": [
      "95% confidence int for the true prob all cash flows are pos is (0.1045, 0.1455).\n"
     ]
    }
   ],
   "source": [
    "p = sum(1 for x in sample_mincashflow if x >= 0.0) / len(sample_mincashflow)\n",
    "moe = 1.96 * (p*(1-p)/len(sample_mincashflow))**0.5\n",
    "lcl = p -moe\n",
    "ucl = p +moe\n",
    "\n",
    "print('95%% confidence int for the true prob all cash flows are pos is (%6.4f, %6.4f).' % (lcl, ucl))"
   ]
  },
  {
   "cell_type": "code",
   "execution_count": null,
   "metadata": {},
   "outputs": [],
   "source": []
  }
 ],
 "metadata": {
  "kernelspec": {
   "display_name": "Python 3 (ipykernel)",
   "language": "python",
   "name": "python3"
  },
  "language_info": {
   "codemirror_mode": {
    "name": "ipython",
    "version": 3
   },
   "file_extension": ".py",
   "mimetype": "text/x-python",
   "name": "python",
   "nbconvert_exporter": "python",
   "pygments_lexer": "ipython3",
   "version": "3.11.5"
  }
 },
 "nbformat": 4,
 "nbformat_minor": 4
}
