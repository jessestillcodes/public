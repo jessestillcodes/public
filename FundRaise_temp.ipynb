{
 "cells": [
  {
   "cell_type": "markdown",
   "metadata": {},
   "source": [
    "# Fund Raising Simulation"
   ]
  },
  {
   "cell_type": "code",
   "execution_count": 2,
   "metadata": {},
   "outputs": [],
   "source": [
    "import random as rd\n",
    "import statistics as st\n",
    "import numpy.random as npr\n",
    "import matplotlib.pyplot as plt"
   ]
  },
  {
   "cell_type": "code",
   "execution_count": 3,
   "metadata": {},
   "outputs": [],
   "source": [
    "#input parameters\n",
    "donors = 20\n",
    "pranswer = 0.40\n",
    "prdonate = 0.50\n",
    "donationmean = 200.00\n",
    "donationstd = 50.00"
   ]
  },
  {
   "cell_type": "code",
   "execution_count": 4,
   "metadata": {},
   "outputs": [],
   "source": [
    "# user defined simulation function\n",
    "# arguments: calls = number of phone calls, trials = number of simulation trials\n",
    "# returns: list of simulated total donation amounts\n",
    "\n",
    "def fundraisesim(calls, trials):\n",
    "    sample = list()\n",
    "    for i in range(trials):\n",
    "        numberanswer = npr.binomial(calls,pranswer)\n",
    "        numberdonate = npr.binomial(numberanswer, prdonate)\n",
    "        totdonations = 0.0 \n",
    "        for d in range(numberdonate):\n",
    "            donations = rd.normalvariate(donationmean, donationstd)\n",
    "            totdonations = totdonations + donations\n",
    "        sample.append(totdonations)\n",
    "    return(sample)"
   ]
  },
  {
   "cell_type": "code",
   "execution_count": 5,
   "metadata": {},
   "outputs": [
    {
     "name": "stdout",
     "output_type": "stream",
     "text": [
      "Mean = 795.70\n",
      "St.Dev. = 375.67\n"
     ]
    }
   ],
   "source": [
    "trials = 1000\n",
    "sample = fundraisesim(donors, trials)\n",
    "print('Mean = %5.2f' % st.mean(sample))\n",
    "print('St.Dev. = %5.2f' % st.stdev(sample))"
   ]
  },
  {
   "cell_type": "code",
   "execution_count": 6,
   "metadata": {},
   "outputs": [
    {
     "data": {
      "text/plain": [
       "(array([ 53., 131., 206., 220., 205.,  99.,  50.,  24.,   6.,   6.]),\n",
       " array([   0.        ,  220.72026256,  441.44052512,  662.16078769,\n",
       "         882.88105025, 1103.60131281, 1324.32157537, 1545.04183793,\n",
       "        1765.7621005 , 1986.48236306, 2207.20262562]),\n",
       " <BarContainer object of 10 artists>)"
      ]
     },
     "execution_count": 6,
     "metadata": {},
     "output_type": "execute_result"
    },
    {
     "data": {
      "image/png": "[encoded data removed]",
      "text/plain": [
       "<Figure size 640x480 with 1 Axes>"
      ]
     },
     "metadata": {},
     "output_type": "display_data"
    }
   ],
   "source": [
    "plt.hist(sample, edgecolor='k')"
   ]
  },
  {
   "cell_type": "code",
   "execution_count": 12,
   "metadata": {},
   "outputs": [
    {
     "name": "stdout",
     "output_type": "stream",
     "text": [
      "The 95% confidence interval for the mean of the total donations is (772.42, 818.99)\n"
     ]
    }
   ],
   "source": [
    "sample_mean = st.mean(sample)\n",
    "sample_std = st.stdev(sample)\n",
    "moe = 1.96*sample_std/len(sample)**0.5\n",
    "lcl = sample_mean - moe\n",
    "ucl = sample_mean + moe\n",
    "print('The 95%% confidence interval for the mean of the total donations is (%6.2f, %6.2f)' % (lcl,ucl))"
   ]
  },
  {
   "cell_type": "code",
   "execution_count": 14,
   "metadata": {},
   "outputs": [
    {
     "name": "stdout",
     "output_type": "stream",
     "text": [
      "There is a 26.80% chance of raising at least $1,000.\n"
     ]
    }
   ],
   "source": [
    "proportion = sum(1 for x in sample if x >= 1000)/len(sample)\n",
    "print('There is a %5.2f%% chance of raising at least $1,000.' % (100*proportion))"
   ]
  },
  {
   "cell_type": "code",
   "execution_count": 16,
   "metadata": {},
   "outputs": [
    {
     "name": "stdout",
     "output_type": "stream",
     "text": [
      "The 90% confidence interval for the probability of raising at least $1,000 is (0.2450, 0.2910).\n"
     ]
    }
   ],
   "source": [
    "# 90% confidence interval for the proportion\n",
    "moe = 1.645 * (proportion *(1-proportion)/len(sample))**0.5\n",
    "lcl = proportion - moe\n",
    "if lcl < 0.0: lcl = 0.0\n",
    "ucl = proportion + moe\n",
    "print('The 90%% confidence interval for the probability of raising at least $1,000 is (%6.4f, %6.4f).' % (lcl,ucl))"
   ]
  },
  {
   "cell_type": "code",
   "execution_count": null,
   "metadata": {},
   "outputs": [],
   "source": []
  }
 ],
 "metadata": {
  "kernelspec": {
   "display_name": "Python 3 (ipykernel)",
   "language": "python",
   "name": "python3"
  },
  "language_info": {
   "codemirror_mode": {
    "name": "ipython",
    "version": 3
   },
   "file_extension": ".py",
   "mimetype": "text/x-python",
   "name": "python",
   "nbconvert_exporter": "python",
   "pygments_lexer": "ipython3",
   "version": "3.11.5"
  }
 },
 "nbformat": 4,
 "nbformat_minor": 4
}
